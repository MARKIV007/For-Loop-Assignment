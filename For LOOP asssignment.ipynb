{
 "cells": [
  {
   "cell_type": "code",
   "execution_count": 1,
   "id": "98d9e5c6-a522-4cec-ad7e-19e9a189356a",
   "metadata": {},
   "outputs": [
    {
     "name": "stdout",
     "output_type": "stream",
     "text": [
      "1\n",
      "2\n",
      "3\n",
      "4\n",
      "5\n",
      "6\n",
      "7\n",
      "8\n",
      "9\n",
      "10\n"
     ]
    }
   ],
   "source": [
    "for i in range(1, 11):\n",
    "    print(i)"
   ]
  },
  {
   "cell_type": "code",
   "execution_count": 2,
   "id": "93ecd31b-4cbb-414e-b415-648e60fc4342",
   "metadata": {},
   "outputs": [
    {
     "name": "stdout",
     "output_type": "stream",
     "text": [
      "Sum: 15\n"
     ]
    }
   ],
   "source": [
    "numbers = [1, 2, 3, 4, 5]\n",
    "total_sum = 0\n",
    "for num in numbers:\n",
    "    total_sum += num\n",
    "print(\"Sum:\", total_sum)"
   ]
  },
  {
   "cell_type": "code",
   "execution_count": 3,
   "id": "d6bb4963-f5b0-4306-b77b-aea05d0f176c",
   "metadata": {},
   "outputs": [
    {
     "name": "stdout",
     "output_type": "stream",
     "text": [
      "olleh"
     ]
    }
   ],
   "source": [
    "string = \"hello\"\n",
    "for char in reversed(string):\n",
    "    print(char, end='')"
   ]
  },
  {
   "cell_type": "code",
   "execution_count": 4,
   "id": "a4c31618-7f30-4241-b07c-9138c8165193",
   "metadata": {},
   "outputs": [
    {
     "name": "stdout",
     "output_type": "stream",
     "text": [
      "Factorial: 120\n"
     ]
    }
   ],
   "source": [
    "number = 5\n",
    "factorial = 1\n",
    "for i in range(1, number + 1):\n",
    "    factorial *= i\n",
    "print(\"Factorial:\", factorial)"
   ]
  },
  {
   "cell_type": "code",
   "execution_count": 5,
   "id": "811f234c-5a2b-4976-8a9e-b1ba13a2853f",
   "metadata": {},
   "outputs": [
    {
     "name": "stdout",
     "output_type": "stream",
     "text": [
      "7 x 1 = 7\n",
      "7 x 2 = 14\n",
      "7 x 3 = 21\n",
      "7 x 4 = 28\n",
      "7 x 5 = 35\n",
      "7 x 6 = 42\n",
      "7 x 7 = 49\n",
      "7 x 8 = 56\n",
      "7 x 9 = 63\n",
      "7 x 10 = 70\n"
     ]
    }
   ],
   "source": [
    "num = 7\n",
    "for i in range(1, 11):\n",
    "    print(f\"{num} x {i} = {num * i}\")"
   ]
  },
  {
   "cell_type": "code",
   "execution_count": 6,
   "id": "a68020b3-3e65-43d8-8f46-8bdb5e11e7c1",
   "metadata": {},
   "outputs": [
    {
     "name": "stdout",
     "output_type": "stream",
     "text": [
      "Even count: 5\n",
      "Odd count: 5\n"
     ]
    }
   ],
   "source": [
    "numbers = [1, 2, 3, 4, 5, 6, 7, 8, 9, 10]\n",
    "even_count = 0\n",
    "odd_count = 0\n",
    "for num in numbers:\n",
    "    if num % 2 == 0:\n",
    "        even_count += 1\n",
    "    else:\n",
    "        odd_count += 1\n",
    "print(\"Even count:\", even_count)\n",
    "print(\"Odd count:\", odd_count)"
   ]
  },
  {
   "cell_type": "code",
   "execution_count": 7,
   "id": "f9c29074-2806-4120-8792-0363ea8f89dd",
   "metadata": {},
   "outputs": [
    {
     "name": "stdout",
     "output_type": "stream",
     "text": [
      "Square of 1 is 1\n",
      "Square of 2 is 4\n",
      "Square of 3 is 9\n",
      "Square of 4 is 16\n",
      "Square of 5 is 25\n"
     ]
    }
   ],
   "source": [
    "for i in range(1, 6):\n",
    "    print(f\"Square of {i} is {i ** 2}\")"
   ]
  },
  {
   "cell_type": "code",
   "execution_count": 8,
   "id": "5d0f345d-010a-4b0b-9d00-828823379d6f",
   "metadata": {},
   "outputs": [
    {
     "name": "stdout",
     "output_type": "stream",
     "text": [
      "Length: 5\n"
     ]
    }
   ],
   "source": [
    "string = \"hello\"\n",
    "length = 0\n",
    "for char in string:\n",
    "    length += 1\n",
    "print(\"Length:\", length)"
   ]
  },
  {
   "cell_type": "code",
   "execution_count": 9,
   "id": "a104fcb1-ed52-473f-8ffb-b3e9927052b9",
   "metadata": {},
   "outputs": [
    {
     "name": "stdout",
     "output_type": "stream",
     "text": [
      "Average: 3.0\n"
     ]
    }
   ],
   "source": [
    "numbers = [1, 2, 3, 4, 5]\n",
    "total_sum = 0\n",
    "count = 0\n",
    "for num in numbers:\n",
    "    total_sum += num\n",
    "    count += 1\n",
    "average = total_sum / count\n",
    "print(\"Average:\", average)"
   ]
  },
  {
   "cell_type": "code",
   "execution_count": 10,
   "id": "80b7416f-ffad-4a9b-a87f-d42765801449",
   "metadata": {},
   "outputs": [
    {
     "name": "stdout",
     "output_type": "stream",
     "text": [
      "Fibonacci sequence: [0, 1, 1, 2, 3, 5, 8, 13, 21, 34]\n"
     ]
    }
   ],
   "source": [
    "n = 10\n",
    "fib_sequence = []\n",
    "a, b = 0, 1\n",
    "for _ in range(n):\n",
    "    fib_sequence.append(a)\n",
    "    a, b = b, a + b\n",
    "print(\"Fibonacci sequence:\", fib_sequence)"
   ]
  },
  {
   "cell_type": "code",
   "execution_count": 11,
   "id": "74d95471-3ef0-4a2c-aef5-4a6392683683",
   "metadata": {},
   "outputs": [
    {
     "name": "stdout",
     "output_type": "stream",
     "text": [
      "Contains duplicates: True\n"
     ]
    }
   ],
   "source": [
    "def contains_duplicates(lst):\n",
    "    seen = []\n",
    "    for item in lst:\n",
    "        if item in seen:\n",
    "            return True\n",
    "        seen.append(item)\n",
    "    return False\n",
    "\n",
    "my_list = [1, 2, 3, 4, 2]\n",
    "print(\"Contains duplicates:\", contains_duplicates(my_list))"
   ]
  },
  {
   "cell_type": "code",
   "execution_count": 12,
   "id": "39ac378f-f3ec-497e-a286-16e419778d81",
   "metadata": {},
   "outputs": [
    {
     "name": "stdout",
     "output_type": "stream",
     "text": [
      "11 13 17 19 23 29 31 37 41 43 47 "
     ]
    }
   ],
   "source": [
    "def is_prime(num):\n",
    "    if num < 2:\n",
    "        return False\n",
    "    for i in range(2, int(num**0.5) + 1):\n",
    "        if num % i == 0:\n",
    "            return False\n",
    "    return True\n",
    "\n",
    "start = 10\n",
    "end = 50\n",
    "for num in range(start, end + 1):\n",
    "    if is_prime(num):\n",
    "        print(num, end=' ')"
   ]
  },
  {
   "cell_type": "code",
   "execution_count": 13,
   "id": "cb2881d6-6ce3-45cb-ae63-e3031b9562d4",
   "metadata": {},
   "outputs": [
    {
     "name": "stdout",
     "output_type": "stream",
     "text": [
      "Number of vowels: 3\n"
     ]
    }
   ],
   "source": [
    "def count_vowels(s):\n",
    "    vowels = \"aeiouAEIOU\"\n",
    "    count = 0\n",
    "    for char in s:\n",
    "        if char in vowels:\n",
    "            count += 1\n",
    "    return count\n",
    "\n",
    "string = \"hello world\"\n",
    "print(\"Number of vowels:\", count_vowels(string))"
   ]
  },
  {
   "cell_type": "code",
   "execution_count": 14,
   "id": "dc50b742-bc08-4e7c-9bf8-95b4cbba3ce2",
   "metadata": {},
   "outputs": [
    {
     "name": "stdout",
     "output_type": "stream",
     "text": [
      "Maximum element: 9\n"
     ]
    }
   ],
   "source": [
    "def find_max_2d(lst):\n",
    "    max_element = float('-inf')\n",
    "    for row in lst:\n",
    "        for element in row:\n",
    "            if element > max_element:\n",
    "                max_element = element\n",
    "    return max_element\n",
    "\n",
    "matrix = [[3, 5, 1], [4, 8, 6], [7, 2, 9]]\n",
    "print(\"Maximum element:\", find_max_2d(matrix))"
   ]
  },
  {
   "cell_type": "code",
   "execution_count": 15,
   "id": "4ff973f0-b408-4115-9d55-261e911e166a",
   "metadata": {},
   "outputs": [
    {
     "name": "stdout",
     "output_type": "stream",
     "text": [
      "List after removal: [1, 3, 4, 5]\n"
     ]
    }
   ],
   "source": [
    "def remove_element(lst, element):\n",
    "    result = []\n",
    "    for item in lst:\n",
    "        if item != element:\n",
    "            result.append(item)\n",
    "    return result\n",
    "\n",
    "my_list = [1, 2, 3, 4, 2, 2, 5]\n",
    "element_to_remove = 2\n",
    "print(\"List after removal:\", remove_element(my_list, element_to_remove))"
   ]
  },
  {
   "cell_type": "code",
   "execution_count": 16,
   "id": "e431dc16-9780-4e6d-97b8-514fd0bf76ba",
   "metadata": {},
   "outputs": [
    {
     "name": "stdout",
     "output_type": "stream",
     "text": [
      "1 x 1 = 1\n",
      "1 x 2 = 2\n",
      "1 x 3 = 3\n",
      "1 x 4 = 4\n",
      "1 x 5 = 5\n",
      "1 x 6 = 6\n",
      "1 x 7 = 7\n",
      "1 x 8 = 8\n",
      "1 x 9 = 9\n",
      "1 x 10 = 10\n",
      "\n",
      "2 x 1 = 2\n",
      "2 x 2 = 4\n",
      "2 x 3 = 6\n",
      "2 x 4 = 8\n",
      "2 x 5 = 10\n",
      "2 x 6 = 12\n",
      "2 x 7 = 14\n",
      "2 x 8 = 16\n",
      "2 x 9 = 18\n",
      "2 x 10 = 20\n",
      "\n",
      "3 x 1 = 3\n",
      "3 x 2 = 6\n",
      "3 x 3 = 9\n",
      "3 x 4 = 12\n",
      "3 x 5 = 15\n",
      "3 x 6 = 18\n",
      "3 x 7 = 21\n",
      "3 x 8 = 24\n",
      "3 x 9 = 27\n",
      "3 x 10 = 30\n",
      "\n",
      "4 x 1 = 4\n",
      "4 x 2 = 8\n",
      "4 x 3 = 12\n",
      "4 x 4 = 16\n",
      "4 x 5 = 20\n",
      "4 x 6 = 24\n",
      "4 x 7 = 28\n",
      "4 x 8 = 32\n",
      "4 x 9 = 36\n",
      "4 x 10 = 40\n",
      "\n",
      "5 x 1 = 5\n",
      "5 x 2 = 10\n",
      "5 x 3 = 15\n",
      "5 x 4 = 20\n",
      "5 x 5 = 25\n",
      "5 x 6 = 30\n",
      "5 x 7 = 35\n",
      "5 x 8 = 40\n",
      "5 x 9 = 45\n",
      "5 x 10 = 50\n",
      "\n"
     ]
    }
   ],
   "source": [
    "for i in range(1, 6):\n",
    "    for j in range(1, 11):\n",
    "        print(f\"{i} x {j} = {i * j}\")\n",
    "    print()  # Print a new line for better readability\n"
   ]
  },
  {
   "cell_type": "code",
   "execution_count": 17,
   "id": "b2370e62-d7c1-483f-ac4b-0a5757811e2d",
   "metadata": {},
   "outputs": [
    {
     "name": "stdout",
     "output_type": "stream",
     "text": [
      "Celsius temperatures: [0.0, 10.0, 25.0, 40.0]\n"
     ]
    }
   ],
   "source": [
    "def fahrenheit_to_celsius(fahrenheit):\n",
    "    return (fahrenheit - 32) * 5.0/9.0\n",
    "\n",
    "fahrenheit_temps = [32, 50, 77, 104]\n",
    "celsius_temps = []\n",
    "for temp in fahrenheit_temps:\n",
    "    celsius_temps.append(fahrenheit_to_celsius(temp))\n",
    "\n",
    "print(\"Celsius temperatures:\", celsius_temps)"
   ]
  },
  {
   "cell_type": "code",
   "execution_count": 18,
   "id": "f2fe11d6-5384-41ec-99bc-a328c75e57b5",
   "metadata": {},
   "outputs": [
    {
     "name": "stdout",
     "output_type": "stream",
     "text": [
      "Common elements: [3, 4, 5]\n"
     ]
    }
   ],
   "source": [
    "def common_elements(list1, list2):\n",
    "    common = []\n",
    "    for item in list1:\n",
    "        if item in list2 and item not in common:\n",
    "            common.append(item)\n",
    "    return common\n",
    "\n",
    "list1 = [1, 2, 3, 4, 5]\n",
    "list2 = [3, 4, 5, 6, 7]\n",
    "print(\"Common elements:\", common_elements(list1, list2))"
   ]
  },
  {
   "cell_type": "code",
   "execution_count": 19,
   "id": "1c7e8e8b-73e1-4046-98fb-1bd4ca7d3597",
   "metadata": {},
   "outputs": [
    {
     "name": "stdout",
     "output_type": "stream",
     "text": [
      "*\n",
      "**\n",
      "***\n",
      "****\n",
      "*****\n"
     ]
    }
   ],
   "source": [
    "rows = 5\n",
    "for i in range(1, rows + 1):\n",
    "    for j in range(i):\n",
    "        print('*', end='')\n",
    "    print()"
   ]
  },
  {
   "cell_type": "code",
   "execution_count": 20,
   "id": "a471b885-9806-4713-94c2-b88c86b10ab5",
   "metadata": {},
   "outputs": [
    {
     "name": "stdout",
     "output_type": "stream",
     "text": [
      "GCD: 6\n"
     ]
    }
   ],
   "source": [
    "def gcd(a, b):\n",
    "    smallest = min(a, b)\n",
    "    greatest_divisor = 1\n",
    "    for i in range(1, smallest + 1):\n",
    "        if a % i == 0 and b % i == 0:\n",
    "            greatest_divisor = i\n",
    "    return greatest_divisor\n",
    "\n",
    "num1 = 54\n",
    "num2 = 24\n",
    "print(\"GCD:\", gcd(num1, num2))"
   ]
  },
  {
   "cell_type": "code",
   "execution_count": 21,
   "id": "bb2ad1dd-96ed-4a7f-80b1-3a1edef10b4f",
   "metadata": {},
   "outputs": [
    {
     "name": "stdout",
     "output_type": "stream",
     "text": [
      "Sum of digits: [6, 15, 24]\n"
     ]
    }
   ],
   "source": [
    "numbers = [123, 456, 789]\n",
    "sum_of_digits = [sum(int(digit) for digit in str(number)) for number in numbers]\n",
    "print(\"Sum of digits:\", sum_of_digits)"
   ]
  },
  {
   "cell_type": "code",
   "execution_count": 22,
   "id": "c0f3502b-5dc1-4ccd-9f3f-6705820e7bdf",
   "metadata": {},
   "outputs": [
    {
     "name": "stdout",
     "output_type": "stream",
     "text": [
      "Prime factors: [2, 2, 2, 7]\n"
     ]
    }
   ],
   "source": [
    "def prime_factors(n):\n",
    "    factors = []\n",
    "    divisor = 2\n",
    "    while n > 1:\n",
    "        while n % divisor == 0:\n",
    "            factors.append(divisor)\n",
    "            n //= divisor\n",
    "        divisor += 1\n",
    "    return factors\n",
    "\n",
    "number = 56\n",
    "print(\"Prime factors:\", prime_factors(number))"
   ]
  },
  {
   "cell_type": "code",
   "execution_count": 23,
   "id": "7afeb04b-2dc9-49d6-92e4-83eca2826278",
   "metadata": {},
   "outputs": [
    {
     "name": "stdout",
     "output_type": "stream",
     "text": [
      "Unique elements: [1, 2, 3, 4, 5]\n"
     ]
    }
   ],
   "source": [
    "my_list = [1, 2, 2, 3, 4, 4, 5]\n",
    "unique_elements = list({item for item in my_list})\n",
    "print(\"Unique elements:\", unique_elements)"
   ]
  },
  {
   "cell_type": "code",
   "execution_count": 24,
   "id": "8a371e73-3f9d-451d-89fd-d965280fdfb6",
   "metadata": {},
   "outputs": [
    {
     "name": "stdout",
     "output_type": "stream",
     "text": [
      "Palindromic numbers: [1, 2, 3, 4, 5, 6, 7, 8, 9, 11, 22, 33, 44, 55, 66, 77, 88, 99, 101, 111, 121, 131, 141, 151, 161, 171, 181, 191]\n"
     ]
    }
   ],
   "source": [
    "limit = 200\n",
    "palindromic_numbers = [num for num in range(1, limit + 1) if str(num) == str(num)[::-1]]\n",
    "print(\"Palindromic numbers:\", palindromic_numbers)"
   ]
  },
  {
   "cell_type": "code",
   "execution_count": 25,
   "id": "1294eaff-a254-45eb-b5bd-9985445c0804",
   "metadata": {},
   "outputs": [
    {
     "name": "stdout",
     "output_type": "stream",
     "text": [
      "Flattened list: [1, 2, 3, 4, 5, 6, 7, 8]\n"
     ]
    }
   ],
   "source": [
    "nested_list = [[1, 2, 3], [4, 5], [6, 7, 8]]\n",
    "flattened_list = [item for sublist in nested_list for item in sublist]\n",
    "print(\"Flattened list:\", flattened_list)"
   ]
  },
  {
   "cell_type": "code",
   "execution_count": 26,
   "id": "b20cadce-b60c-408b-99c7-42d788cefd35",
   "metadata": {},
   "outputs": [
    {
     "name": "stdout",
     "output_type": "stream",
     "text": [
      "Sum of even numbers: 30\n",
      "Sum of odd numbers: 25\n"
     ]
    }
   ],
   "source": [
    "numbers = [1, 2, 3, 4, 5, 6, 7, 8, 9, 10]\n",
    "sum_even = sum([num for num in numbers if num % 2 == 0])\n",
    "sum_odd = sum([num for num in numbers if num % 2 != 0])\n",
    "print(\"Sum of even numbers:\", sum_even)\n",
    "print(\"Sum of odd numbers:\", sum_odd)"
   ]
  },
  {
   "cell_type": "code",
   "execution_count": 27,
   "id": "91b066b2-c042-4108-be98-fe5005b573ad",
   "metadata": {},
   "outputs": [
    {
     "name": "stdout",
     "output_type": "stream",
     "text": [
      "Squares of odd numbers: [1, 9, 25, 49, 81]\n"
     ]
    }
   ],
   "source": [
    "squares_of_odd = [num ** 2 for num in range(1, 11) if num % 2 != 0]\n",
    "print(\"Squares of odd numbers:\", squares_of_odd)"
   ]
  },
  {
   "cell_type": "code",
   "execution_count": 28,
   "id": "955ce51a-c843-43f8-9e3e-f0167b0e6089",
   "metadata": {},
   "outputs": [
    {
     "name": "stdout",
     "output_type": "stream",
     "text": [
      "Combined dictionary: {'a': 1, 'b': 2, 'c': 3}\n"
     ]
    }
   ],
   "source": [
    "keys = ['a', 'b', 'c']\n",
    "values = [1, 2, 3]\n",
    "combined_dict = {keys[i]: values[i] for i in range(len(keys))}\n",
    "print(\"Combined dictionary:\", combined_dict)"
   ]
  },
  {
   "cell_type": "code",
   "execution_count": 29,
   "id": "3ef84e9b-9c13-4e73-9b6a-e12d408e2c2f",
   "metadata": {},
   "outputs": [
    {
     "name": "stdout",
     "output_type": "stream",
     "text": [
      "Vowels: ['e', 'o', 'o']\n"
     ]
    }
   ],
   "source": [
    "string = \"hello world\"\n",
    "vowels = [char for char in string if char in \"aeiouAEIOU\"]\n",
    "print(\"Vowels:\", vowels)"
   ]
  },
  {
   "cell_type": "code",
   "execution_count": 30,
   "id": "e05708a3-6a35-4e0a-ae12-8c4c55210c1c",
   "metadata": {},
   "outputs": [
    {
     "name": "stdout",
     "output_type": "stream",
     "text": [
      "Numeric strings: ['123', '456', '789']\n"
     ]
    }
   ],
   "source": [
    "strings = ['abc123', 'def456', '789ghi']\n",
    "numeric_strings = [''.join(char for char in string if char.isdigit()) for string in strings]\n",
    "print(\"Numeric strings:\", numeric_strings)"
   ]
  },
  {
   "cell_type": "code",
   "execution_count": 31,
   "id": "092a09b1-6bd0-4ff0-b7f8-d33a881d4df2",
   "metadata": {},
   "outputs": [
    {
     "name": "stdout",
     "output_type": "stream",
     "text": [
      "Primes up to 50 : [2, 3, 5, 7, 11, 13, 17, 19, 23, 29, 31, 37, 41, 43, 47]\n"
     ]
    }
   ],
   "source": [
    "def sieve_of_eratosthenes(limit):\n",
    "    sieve = [True] * (limit + 1)\n",
    "    sieve[0] = sieve[1] = False\n",
    "    for start in range(2, int(limit**0.5) + 1):\n",
    "        if sieve[start]:\n",
    "            for multiple in range(start*start, limit + 1, start):\n",
    "                sieve[multiple] = False\n",
    "    return [num for num, is_prime in enumerate(sieve) if is_prime]\n",
    "\n",
    "limit = 50\n",
    "primes = sieve_of_eratosthenes(limit)\n",
    "print(\"Primes up to\", limit, \":\", primes)"
   ]
  },
  {
   "cell_type": "code",
   "execution_count": 32,
   "id": "7a356576-4778-4bb6-a655-34faedbab06d",
   "metadata": {},
   "outputs": [
    {
     "name": "stdout",
     "output_type": "stream",
     "text": [
      "Pythagorean triplets up to 20 : [(3, 4, 5), (5, 12, 13), (6, 8, 10), (8, 15, 17), (9, 12, 15), (12, 16, 20)]\n"
     ]
    }
   ],
   "source": [
    "def pythagorean_triplets(limit):\n",
    "    return [(a, b, c) for a in range(1, limit + 1) \n",
    "                      for b in range(a, limit + 1) \n",
    "                      for c in range(b, limit + 1) \n",
    "                      if a*a + b*b == c*c]\n",
    "\n",
    "limit = 20\n",
    "triplets = pythagorean_triplets(limit)\n",
    "print(\"Pythagorean triplets up to\", limit, \":\", triplets)"
   ]
  },
  {
   "cell_type": "code",
   "execution_count": 33,
   "id": "0ea6c2e3-40ee-4d4f-9af4-3bcde46c2454",
   "metadata": {},
   "outputs": [
    {
     "name": "stdout",
     "output_type": "stream",
     "text": [
      "Combinations: [(1, 'a'), (1, 'b'), (1, 'c'), (2, 'a'), (2, 'b'), (2, 'c'), (3, 'a'), (3, 'b'), (3, 'c')]\n"
     ]
    }
   ],
   "source": [
    "list1 = [1, 2, 3]\n",
    "list2 = ['a', 'b', 'c']\n",
    "combinations = [(x, y) for x in list1 for y in list2]\n",
    "print(\"Combinations:\", combinations)"
   ]
  },
  {
   "cell_type": "code",
   "execution_count": 34,
   "id": "b2746053-7255-46b9-b68e-9d1aebc93971",
   "metadata": {},
   "outputs": [
    {
     "name": "stdout",
     "output_type": "stream",
     "text": [
      "Mean: 4.7272727272727275\n",
      "Median: 5\n",
      "Mode: 6\n"
     ]
    }
   ],
   "source": [
    "from statistics import mean, median, mode\n",
    "\n",
    "numbers = [1, 2, 3, 4, 4, 5, 6, 6, 6, 7, 8]\n",
    "mean_value = mean(numbers)\n",
    "median_value = median(numbers)\n",
    "mode_value = mode(numbers)\n",
    "\n",
    "print(\"Mean:\", mean_value)\n",
    "print(\"Median:\", median_value)\n",
    "print(\"Mode:\", mode_value)"
   ]
  },
  {
   "cell_type": "code",
   "execution_count": 35,
   "id": "437a5bcb-9a80-40b7-a5b1-fbb24da04615",
   "metadata": {},
   "outputs": [
    {
     "name": "stdout",
     "output_type": "stream",
     "text": [
      "[1]\n",
      "[1, 1]\n",
      "[1, 2, 1]\n",
      "[1, 3, 3, 1]\n",
      "[1, 4, 6, 4, 1]\n"
     ]
    }
   ],
   "source": [
    "def generate_pascals_triangle(rows):\n",
    "    triangle = [[1]]\n",
    "    for i in range(1, rows):\n",
    "        row = [1] + [triangle[i-1][j-1] + triangle[i-1][j] for j in range(1, i)] + [1]\n",
    "        triangle.append(row)\n",
    "    return triangle\n",
    "\n",
    "rows = 5\n",
    "pascals_triangle = generate_pascals_triangle(rows)\n",
    "for row in pascals_triangle:\n",
    "    print(row)"
   ]
  },
  {
   "cell_type": "code",
   "execution_count": null,
   "id": "1af12ce5-fef3-4e53-805c-95dee3b270dd",
   "metadata": {},
   "outputs": [],
   "source": []
  }
 ],
 "metadata": {
  "kernelspec": {
   "display_name": "Python 3 (ipykernel)",
   "language": "python",
   "name": "python3"
  },
  "language_info": {
   "codemirror_mode": {
    "name": "ipython",
    "version": 3
   },
   "file_extension": ".py",
   "mimetype": "text/x-python",
   "name": "python",
   "nbconvert_exporter": "python",
   "pygments_lexer": "ipython3",
   "version": "3.10.8"
  }
 },
 "nbformat": 4,
 "nbformat_minor": 5
}
